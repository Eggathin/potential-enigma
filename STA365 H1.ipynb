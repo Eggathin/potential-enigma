{
 "cells": [
  {
   "cell_type": "markdown",
   "id": "1c216d40",
   "metadata": {},
   "source": [
    "Oswin Gan 1008502336"
   ]
  },
  {
   "cell_type": "code",
   "execution_count": 16,
   "id": "228e5960",
   "metadata": {},
   "outputs": [
    {
     "name": "stdout",
     "output_type": "stream",
     "text": [
      "6\n",
      "5\n",
      "724\n"
     ]
    }
   ],
   "source": [
    "import numpy as np; from scipy import stats\n",
    "np.random.seed(123)\n",
    "\n",
    "# True probability of each arm\n",
    "pA = 0.3\n",
    "pB = 0.5\n",
    "pC = 0.7\n",
    "\n",
    "# Initial alpha and beta of each arm\n",
    "alpha_A, beta_A = 1, 1 \n",
    "alpha_B, beta_B = 1, 1\n",
    "alpha_C, beta_C = 1, 1\n",
    "\n",
    "rewards_A = 0\n",
    "rewards_B = 0\n",
    "rewards_C = 0\n",
    "\n",
    "num_rounds = 1000\n",
    "\n",
    "for round in range(1, num_rounds + 1):\n",
    "    # Sample from the Beta distributions for each arm\n",
    "    sample_A = np.random.beta(alpha_A, beta_A)\n",
    "    sample_B = np.random.beta(alpha_B, beta_B)\n",
    "    sample_C = np.random.beta(alpha_C, beta_C)\n",
    "\n",
    "    # Choose the arm with the highest sampled probability\n",
    "    chosen_arm = np.argmax([sample_A, sample_B, sample_C])\n",
    "\n",
    "    # Simulate pulling the chosen arm, observe the award, and update alpha and beta values\n",
    "    if chosen_arm == 0:\n",
    "        reward = np.random.binomial(1, pA)\n",
    "        rewards_A += reward\n",
    "        alpha_A += reward\n",
    "        beta_A += (1-reward)\n",
    "    elif chosen_arm == 1:\n",
    "        reward = np.random.binomial(1, pB)\n",
    "        rewards_B += reward\n",
    "        alpha_B += reward\n",
    "        beta_B += (1-reward)\n",
    "    else:\n",
    "        reward = np.random.binomial(1, pC)\n",
    "        rewards_C += reward\n",
    "        alpha_C += reward\n",
    "        beta_C += (1-reward)\n",
    "\n",
    "print(rewards_A)\n",
    "print(rewards_B)\n",
    "print(rewards_C)"
   ]
  },
  {
   "cell_type": "markdown",
   "id": "6fffbbfa",
   "metadata": {},
   "source": [
    "By updating the parameters of the posterior distribution, we continue to explore the best arm through every iteration of the simulation. Through this, we determine that C is the best arm to follow. "
   ]
  }
 ],
 "metadata": {
  "kernelspec": {
   "display_name": "Python 3 (ipykernel)",
   "language": "python",
   "name": "python3"
  },
  "language_info": {
   "codemirror_mode": {
    "name": "ipython",
    "version": 3
   },
   "file_extension": ".py",
   "mimetype": "text/x-python",
   "name": "python",
   "nbconvert_exporter": "python",
   "pygments_lexer": "ipython3",
   "version": "3.9.7"
  }
 },
 "nbformat": 4,
 "nbformat_minor": 5
}
