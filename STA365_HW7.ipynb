{
  "nbformat": 4,
  "nbformat_minor": 0,
  "metadata": {
    "colab": {
      "provenance": [],
      "authorship_tag": "ABX9TyPKF3BKs1bA8ihHZi+DvbPP",
      "include_colab_link": true
    },
    "kernelspec": {
      "name": "python3",
      "display_name": "Python 3"
    },
    "language_info": {
      "name": "python"
    }
  },
  "cells": [
    {
      "cell_type": "markdown",
      "metadata": {
        "id": "view-in-github",
        "colab_type": "text"
      },
      "source": [
        "<a href=\"https://colab.research.google.com/github/Eggathin/potential-enigma/blob/main/STA365_HW7.ipynb\" target=\"_parent\"><img src=\"https://colab.research.google.com/assets/colab-badge.svg\" alt=\"Open In Colab\"/></a>"
      ]
    },
    {
      "cell_type": "markdown",
      "source": [
        "1. Consider the Gaussian mixture model:\n",
        "\n",
        "$$p(x|v_k,\\mu_k,\\sigma_k^2)_{k=1}^K  = \\sum_{k=1}^K \\mathbf{v}_{ik} \\mathcal N (\\mu_k,\\sigma_k^2) \\\\ \\mu_k \\sim \\mathcal N (\\mu_{k0},\\sigma_{k0}^2) \\quad \\sigma_k^2 \\sim \\text{Inverse-Gamma} (\\alpha_{k0}, \\beta_{k0})$$\n",
        "\n",
        "The predictive distribution for a new observation $\\tilde{x}$ is drawn from a weighted average of the predictive distributions of the mixture model, with weights equal to the posterior probabilities of the components.\n",
        "\n",
        "$$p(\\tilde{x}|x) = \\sum_{k=1}^K p(k|x)p(\\tilde{x}|v_k,\\mu_k,\\sigma_k^2, x)$$\n",
        "\n"
      ],
      "metadata": {
        "id": "1V5tG5jLmOai"
      }
    },
    {
      "cell_type": "markdown",
      "source": [
        "2. For observations $X$ and a new observation $\\tilde{x}$ drawn from a distribution depending on parameter $\\theta$, the posterior predictive distribution of $\\tilde{x}$ given $X$ is obtained by integrating $p(\\tilde{x}|\\theta)$ over $p(\\theta|X)$:\n",
        "\n",
        "$$p(\\tilde{x}|X) = \\int p(\\tilde{x}|\\theta) p(\\theta|X)d \\theta$$"
      ],
      "metadata": {
        "id": "gH4C-LDvpqsr"
      }
    },
    {
      "cell_type": "markdown",
      "source": [
        "3. You can utilize Bayesian imputation, where you treat missing values as parameters and estimate them with the Bayesian method. This involves setting appropriate priors and using the non-missing data as the likelihood to infer the missing values using MCMC sampling."
      ],
      "metadata": {
        "id": "BwXrZYtEpq2u"
      }
    }
  ]
}